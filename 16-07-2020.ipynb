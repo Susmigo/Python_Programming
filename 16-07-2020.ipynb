{
 "cells": [
  {
   "cell_type": "code",
   "execution_count": 5,
   "metadata": {},
   "outputs": [
    {
     "name": "stdout",
     "output_type": "stream",
     "text": [
      "Enter the number:5\n",
      "Enter how many multiples you want:5\n",
      "5 * 1 = 5\n",
      "5 * 2 = 10\n",
      "5 * 3 = 15\n",
      "5 * 4 = 20\n",
      "5 * 5 = 25\n"
     ]
    }
   ],
   "source": [
    "# table format\n",
    "n =int(input(\"Enter the number:\"))\n",
    "m=int(input(\"Enter how many multiples you want:\"))\n",
    "for i in range(1,m+1):\n",
    "    print(n,'*',i,'=',i*n)\n",
    "    "
   ]
  },
  {
   "cell_type": "code",
   "execution_count": 6,
   "metadata": {},
   "outputs": [
    {
     "name": "stdout",
     "output_type": "stream",
     "text": [
      "1 \n",
      "2 2 \n",
      "3 3 3 \n",
      "4 4 4 4 \n",
      "5 5 5 5 5 \n"
     ]
    }
   ],
   "source": [
    "# nested for\n",
    "\n",
    "for i in range(1,6):\n",
    "    for j in range(0,i):\n",
    "        print(i,end =\" \")\n",
    "    \n",
    "    print('')\n",
    "\n"
   ]
  },
  {
   "cell_type": "code",
   "execution_count": 3,
   "metadata": {},
   "outputs": [
    {
     "name": "stdout",
     "output_type": "stream",
     "text": [
      "Enter the range:10\n",
      "1 \n",
      "2 2 \n",
      "3 3 3 \n",
      "4 4 4 4 \n",
      "5 5 5 5 5 \n",
      "6 6 6 6 6 6 \n",
      "7 7 7 7 7 7 7 \n",
      "8 8 8 8 8 8 8 8 \n",
      "9 9 9 9 9 9 9 9 9 \n"
     ]
    }
   ],
   "source": [
    "# another example nested for\n",
    "k = int(input(\"Enter the range:\"))\n",
    "for i in range(1,k):\n",
    "    for j in range(0,i):\n",
    "        print(i,end =\" \")\n",
    "    print('')\n",
    "\n",
    "    "
   ]
  },
  {
   "cell_type": "code",
   "execution_count": 10,
   "metadata": {},
   "outputs": [
    {
     "name": "stdout",
     "output_type": "stream",
     "text": [
      "Enter the number:5\n",
      "Enter the range of multiples:5\n",
      "1 * 1 = 1\t\n",
      "\n",
      "1 * 2 = 2\t\n",
      "\n",
      "1 * 3 = 3\t\n",
      "\n",
      "1 * 4 = 4\t\n",
      "\n",
      "1 * 5 = 5\t\n",
      "\n",
      "2 * 1 = 2\t\n",
      "\n",
      "2 * 2 = 4\t\n",
      "\n",
      "2 * 3 = 6\t\n",
      "\n",
      "2 * 4 = 8\t\n",
      "\n",
      "2 * 5 = 10\t\n",
      "\n",
      "3 * 1 = 3\t\n",
      "\n",
      "3 * 2 = 6\t\n",
      "\n",
      "3 * 3 = 9\t\n",
      "\n",
      "3 * 4 = 12\t\n",
      "\n",
      "3 * 5 = 15\t\n",
      "\n",
      "4 * 1 = 4\t\n",
      "\n",
      "4 * 2 = 8\t\n",
      "\n",
      "4 * 3 = 12\t\n",
      "\n",
      "4 * 4 = 16\t\n",
      "\n",
      "4 * 5 = 20\t\n",
      "\n",
      "5 * 1 = 5\t\n",
      "\n",
      "5 * 2 = 10\t\n",
      "\n",
      "5 * 3 = 15\t\n",
      "\n",
      "5 * 4 = 20\t\n",
      "\n",
      "5 * 5 = 25\t\n",
      "\n"
     ]
    }
   ],
   "source": [
    "n=int(input(\"Enter the number:\"))\n",
    "m=int(input(\"Enter the range of multiples:\"))\n",
    "for i in range(1,n+1):\n",
    "  \n",
    "    for j in range(1,m+1):\n",
    "        print(i,'*',j,'=',i*j,end ='\\t')\n",
    "        print('\\n')"
   ]
  },
  {
   "cell_type": "code",
   "execution_count": 11,
   "metadata": {},
   "outputs": [
    {
     "name": "stdout",
     "output_type": "stream",
     "text": [
      "1 2 3 4 5 6 7 8 9 10 "
     ]
    }
   ],
   "source": [
    "# while example\n",
    "i = 1\n",
    "n = 10\n",
    "while i<=n:\n",
    "    print(i,end=' ')\n",
    "    i =i+1"
   ]
  },
  {
   "cell_type": "code",
   "execution_count": 1,
   "metadata": {},
   "outputs": [
    {
     "name": "stdout",
     "output_type": "stream",
     "text": [
      "2 even\n",
      "3 odd\n",
      "4 even\n"
     ]
    }
   ],
   "source": [
    "num=2\n",
    "while num < 5:\n",
    "    if num % 2 == 0:\n",
    "        print(num,'even')\n",
    "    else:\n",
    "        print(num,'odd')\n",
    "    num = num+1\n",
    "            "
   ]
  },
  {
   "cell_type": "code",
   "execution_count": 7,
   "metadata": {},
   "outputs": [
    {
     "name": "stdout",
     "output_type": "stream",
     "text": [
      "current letter g\n",
      "current letter o\n",
      "current letter v\n",
      "current letter a\n",
      "current letter r\n",
      "current letter d\n"
     ]
    }
   ],
   "source": [
    "# jump statements\n",
    "# break\n",
    "for letter in 'govardhan':\n",
    "    if letter =='h':\n",
    "        break\n",
    "    print('current letter',letter)\n"
   ]
  },
  {
   "cell_type": "code",
   "execution_count": 10,
   "metadata": {},
   "outputs": [
    {
     "name": "stdout",
     "output_type": "stream",
     "text": [
      "current number: 10\n",
      "current number: 9\n",
      "current number: 8\n",
      "current number: 7\n",
      "current number: 6\n",
      "ok!!!\n"
     ]
    }
   ],
   "source": [
    "num =10\n",
    "while num>0:\n",
    "    print('current number:',num)\n",
    "    num =num-1\n",
    "    if num==5:\n",
    "        break\n",
    "print('ok!!!')"
   ]
  },
  {
   "cell_type": "code",
   "execution_count": 14,
   "metadata": {},
   "outputs": [
    {
     "name": "stdout",
     "output_type": "stream",
     "text": [
      "current number: 10\n",
      "current number: 9\n",
      "current number: 8\n",
      "current number: 7\n",
      "current number: 6\n",
      "current number: 5\n",
      "current number: 4\n",
      "current number: 3\n",
      "current number: 2\n",
      "current number: 1\n",
      "ok!!!\n"
     ]
    }
   ],
   "source": [
    "# continue\n",
    "num =10\n",
    "while num>0:\n",
    "    print('current number:',num)\n",
    "    num =num-1\n",
    "    if num==5:\n",
    "        continue\n",
    "print('ok!!!')\n"
   ]
  },
  {
   "cell_type": "code",
   "execution_count": 12,
   "metadata": {},
   "outputs": [
    {
     "name": "stdout",
     "output_type": "stream",
     "text": [
      "current letter g\n",
      "current letter o\n",
      "current letter v\n",
      "current letter a\n",
      "current letter r\n",
      "current letter d\n",
      "current letter a\n",
      "current letter n\n"
     ]
    }
   ],
   "source": [
    "for letter in 'govardhan':\n",
    "    if letter =='h':\n",
    "        continue\n",
    "    print('current letter',letter)"
   ]
  },
  {
   "cell_type": "code",
   "execution_count": 15,
   "metadata": {},
   "outputs": [
    {
     "name": "stdout",
     "output_type": "stream",
     "text": [
      "current letter g\n",
      "current letter o\n",
      "current letter v\n",
      "current letter a\n",
      "current letter r\n",
      "current letter d\n",
      "current letter h\n",
      "current letter a\n",
      "current letter n\n"
     ]
    }
   ],
   "source": [
    "# pass  statement\n",
    "for letter in 'govardhan':\n",
    "    if letter =='h':\n",
    "        pass\n",
    "    print('current letter',letter)\n"
   ]
  },
  {
   "cell_type": "code",
   "execution_count": null,
   "metadata": {},
   "outputs": [],
   "source": []
  }
 ],
 "metadata": {
  "kernelspec": {
   "display_name": "Python 3",
   "language": "python",
   "name": "python3"
  },
  "language_info": {
   "codemirror_mode": {
    "name": "ipython",
    "version": 3
   },
   "file_extension": ".py",
   "mimetype": "text/x-python",
   "name": "python",
   "nbconvert_exporter": "python",
   "pygments_lexer": "ipython3",
   "version": "3.7.6"
  }
 },
 "nbformat": 4,
 "nbformat_minor": 4
}
