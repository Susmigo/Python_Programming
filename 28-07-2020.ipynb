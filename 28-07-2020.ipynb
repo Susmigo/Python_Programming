{
 "cells": [
  {
   "cell_type": "markdown",
   "metadata": {},
   "source": [
    "- packages and modules using oops\n",
    "    - similar to packages\n",
    "    - but here we are dealing "
   ]
  },
  {
   "cell_type": "code",
   "execution_count": 2,
   "metadata": {},
   "outputs": [
    {
     "data": {
      "text/plain": [
       "9"
      ]
     },
     "execution_count": 2,
     "metadata": {},
     "output_type": "execute_result"
    }
   ],
   "source": [
    "from packages.module import *\n",
    "obj=File\n",
    "obj.add(4,5)"
   ]
  },
  {
   "cell_type": "code",
   "execution_count": 3,
   "metadata": {},
   "outputs": [
    {
     "data": {
      "text/plain": [
       "20"
      ]
     },
     "execution_count": 3,
     "metadata": {},
     "output_type": "execute_result"
    }
   ],
   "source": [
    "obj.mul(4,5)"
   ]
  },
  {
   "cell_type": "code",
   "execution_count": 4,
   "metadata": {},
   "outputs": [
    {
     "data": {
      "text/plain": [
       "-1"
      ]
     },
     "execution_count": 4,
     "metadata": {},
     "output_type": "execute_result"
    }
   ],
   "source": [
    "obj.sub(4,5)"
   ]
  },
  {
   "cell_type": "code",
   "execution_count": 1,
   "metadata": {},
   "outputs": [
    {
     "name": "stdout",
     "output_type": "stream",
     "text": [
      "odd\n"
     ]
    }
   ],
   "source": [
    "from packages.module import *\n",
    "obj1=Find\n",
    "obj1.even(5)"
   ]
  },
  {
   "cell_type": "code",
   "execution_count": 2,
   "metadata": {},
   "outputs": [
    {
     "name": "stdout",
     "output_type": "stream",
     "text": [
      "even\n"
     ]
    }
   ],
   "source": [
    "obj1.even(2)"
   ]
  },
  {
   "cell_type": "code",
   "execution_count": 6,
   "metadata": {},
   "outputs": [
    {
     "name": "stdout",
     "output_type": "stream",
     "text": [
      "2\n",
      "3\n"
     ]
    }
   ],
   "source": [
    "from packages.module import *\n",
    "obj2=Mod(1,2)\n",
    "print(obj2.__mul__())\n",
    "print(obj2.__add__())"
   ]
  },
  {
   "cell_type": "code",
   "execution_count": 1,
   "metadata": {},
   "outputs": [
    {
     "ename": "TypeError",
     "evalue": "__init__() missing 2 required positional arguments: 'val1' and 'val2'",
     "output_type": "error",
     "traceback": [
      "\u001b[1;31m---------------------------------------------------------------------------\u001b[0m",
      "\u001b[1;31mTypeError\u001b[0m                                 Traceback (most recent call last)",
      "\u001b[1;32m<ipython-input-1-0f05312056a5>\u001b[0m in \u001b[0;36m<module>\u001b[1;34m\u001b[0m\n\u001b[0;32m      1\u001b[0m \u001b[1;32mfrom\u001b[0m \u001b[0mpackages\u001b[0m\u001b[1;33m.\u001b[0m\u001b[0mmodule\u001b[0m \u001b[1;32mimport\u001b[0m \u001b[1;33m*\u001b[0m\u001b[1;33m\u001b[0m\u001b[1;33m\u001b[0m\u001b[0m\n\u001b[1;32m----> 2\u001b[1;33m \u001b[0mobj3\u001b[0m\u001b[1;33m=\u001b[0m\u001b[0mMod\u001b[0m\u001b[1;33m(\u001b[0m\u001b[1;33m)\u001b[0m\u001b[1;33m\u001b[0m\u001b[1;33m\u001b[0m\u001b[0m\n\u001b[0m\u001b[0;32m      3\u001b[0m \u001b[0mprint\u001b[0m\u001b[1;33m(\u001b[0m\u001b[0mobj3\u001b[0m\u001b[1;33m.\u001b[0m\u001b[0m__add__\u001b[0m\u001b[1;33m(\u001b[0m\u001b[1;36m2\u001b[0m\u001b[1;33m,\u001b[0m\u001b[1;36m5\u001b[0m\u001b[1;33m)\u001b[0m\u001b[1;33m)\u001b[0m\u001b[1;33m\u001b[0m\u001b[1;33m\u001b[0m\u001b[0m\n",
      "\u001b[1;31mTypeError\u001b[0m: __init__() missing 2 required positional arguments: 'val1' and 'val2'"
     ]
    }
   ],
   "source": [
    "from packages.module import *\n",
    "obj3=Mod()\n",
    "print(obj3.__add__(2,5))"
   ]
  },
  {
   "cell_type": "markdown",
   "metadata": {},
   "source": [
    "- Data science\n",
    "    - Organising,processing and analaysing huge amount data.\n",
    "    - It involves different disciplines like mathematical and statistical modelling.\n",
    "    - Extracting data from source\n",
    "    - Apply data visualization\n",
    "    - Nearly 20 python libraries for data science\n",
    "    - "
   ]
  },
  {
   "cell_type": "markdown",
   "metadata": {},
   "source": [
    "- Numpy\n",
    "    - Numerical python\n",
    "    - Fundamental package for scientific computing\n",
    "    - Multidimensional array object\n",
    "- Installation\n",
    "    - pip install numpy\n",
    "    - sudo apt get install python3 numpy\n",
    "    - "
   ]
  },
  {
   "cell_type": "code",
   "execution_count": 2,
   "metadata": {},
   "outputs": [
    {
     "data": {
      "text/plain": [
       "'1.18.1'"
      ]
     },
     "execution_count": 2,
     "metadata": {},
     "output_type": "execute_result"
    }
   ],
   "source": [
    "import numpy as np\n",
    "np.__version__"
   ]
  },
  {
   "cell_type": "code",
   "execution_count": 3,
   "metadata": {},
   "outputs": [],
   "source": [
    "np? # to  get short description about numpy"
   ]
  },
  {
   "cell_type": "code",
   "execution_count": 4,
   "metadata": {},
   "outputs": [
    {
     "data": {
      "text/plain": [
       "array([1, 2, 3, 4, 5, 6])"
      ]
     },
     "execution_count": 4,
     "metadata": {},
     "output_type": "execute_result"
    }
   ],
   "source": [
    "# creating arrray using Numpy\n",
    "np.array([1,2,3,4,5,6])"
   ]
  },
  {
   "cell_type": "code",
   "execution_count": 5,
   "metadata": {},
   "outputs": [
    {
     "data": {
      "text/plain": [
       "array([1.02, 1.  , 2.  , 3.  , 4.  , 5.  ])"
      ]
     },
     "execution_count": 5,
     "metadata": {},
     "output_type": "execute_result"
    }
   ],
   "source": [
    "np.array([1.02,1,2,3,4,5])"
   ]
  },
  {
   "cell_type": "code",
   "execution_count": 6,
   "metadata": {},
   "outputs": [
    {
     "data": {
      "text/plain": [
       "array([1, 1, 2, 3, 4, 5])"
      ]
     },
     "execution_count": 6,
     "metadata": {},
     "output_type": "execute_result"
    }
   ],
   "source": [
    "np.array([1.02,1,2,3,4,5],dtype='int') #  to get data according to datatype mentioned"
   ]
  },
  {
   "cell_type": "code",
   "execution_count": 8,
   "metadata": {},
   "outputs": [
    {
     "data": {
      "text/plain": [
       "array([[1, 2, 3],\n",
       "       [4, 5, 6],\n",
       "       [7, 8, 9]])"
      ]
     },
     "execution_count": 8,
     "metadata": {},
     "output_type": "execute_result"
    }
   ],
   "source": [
    "np.array([[1,2,3],[4,5,6],[7,8,9]])"
   ]
  },
  {
   "cell_type": "code",
   "execution_count": 9,
   "metadata": {},
   "outputs": [
    {
     "data": {
      "text/plain": [
       "array([0, 1, 2, 3, 4, 5, 6, 7, 8, 9])"
      ]
     },
     "execution_count": 9,
     "metadata": {},
     "output_type": "execute_result"
    }
   ],
   "source": [
    "np.arange(10)"
   ]
  },
  {
   "cell_type": "code",
   "execution_count": 10,
   "metadata": {},
   "outputs": [
    {
     "data": {
      "text/plain": [
       "array([ 2,  4,  6,  8, 10, 12, 14, 16, 18])"
      ]
     },
     "execution_count": 10,
     "metadata": {},
     "output_type": "execute_result"
    }
   ],
   "source": [
    "np.arange(2,20,2)"
   ]
  },
  {
   "cell_type": "code",
   "execution_count": 12,
   "metadata": {},
   "outputs": [
    {
     "data": {
      "text/plain": [
       "array([[0, 1, 2],\n",
       "       [3, 4, 5],\n",
       "       [6, 7, 8]])"
      ]
     },
     "execution_count": 12,
     "metadata": {},
     "output_type": "execute_result"
    }
   ],
   "source": [
    "x=np.arange(9).reshape(3,3) # to convert 1d array into multidimensional array\n",
    "x"
   ]
  },
  {
   "cell_type": "code",
   "execution_count": 15,
   "metadata": {},
   "outputs": [
    {
     "data": {
      "text/plain": [
       "array([ 2,  3,  4,  5,  6,  7,  8,  9, 10, 11, 12, 13, 14, 15, 16, 17, 18,\n",
       "       19])"
      ]
     },
     "execution_count": 15,
     "metadata": {},
     "output_type": "execute_result"
    }
   ],
   "source": [
    "np.arange(2,20,1)"
   ]
  },
  {
   "cell_type": "code",
   "execution_count": 16,
   "metadata": {},
   "outputs": [
    {
     "data": {
      "text/plain": [
       "36"
      ]
     },
     "execution_count": 16,
     "metadata": {},
     "output_type": "execute_result"
    }
   ],
   "source": [
    "dt=np.random.randint(1,50)\n",
    "dt"
   ]
  },
  {
   "cell_type": "code",
   "execution_count": 18,
   "metadata": {},
   "outputs": [
    {
     "data": {
      "text/plain": [
       "array([[47,  8,  2, 35, 42],\n",
       "       [20, 25, 49, 15, 11]])"
      ]
     },
     "execution_count": 18,
     "metadata": {},
     "output_type": "execute_result"
    }
   ],
   "source": [
    "dat=np.random.randint(1,50,size=(2,5))\n",
    "dat"
   ]
  },
  {
   "cell_type": "code",
   "execution_count": 19,
   "metadata": {},
   "outputs": [
    {
     "data": {
      "text/plain": [
       "array([[47,  8,  2, 35, 42],\n",
       "       [20, 25, 49, 15, 11]])"
      ]
     },
     "execution_count": 19,
     "metadata": {},
     "output_type": "execute_result"
    }
   ],
   "source": [
    "dat"
   ]
  },
  {
   "cell_type": "code",
   "execution_count": 20,
   "metadata": {},
   "outputs": [
    {
     "data": {
      "text/plain": [
       "array([[19, 29, 45, 40,  1, 35, 13, 28, 36, 12],\n",
       "       [30, 11, 15, 34,  1, 35, 10, 15, 26, 25],\n",
       "       [20, 10,  3, 26, 36, 45, 39, 33, 17, 10],\n",
       "       [14, 36, 24, 25, 34, 33, 33,  3, 36,  5],\n",
       "       [19, 19, 41, 18, 16, 26, 43, 11,  4, 23],\n",
       "       [30,  7, 44, 46, 43, 31, 12, 23, 20, 27],\n",
       "       [ 1,  3,  3,  6, 20, 16, 13,  3, 39, 43],\n",
       "       [ 1, 49,  8, 18, 12, 49, 41,  8, 13, 44],\n",
       "       [49, 31,  7, 20, 35, 40, 13, 26,  3, 40],\n",
       "       [46,  1, 23, 28, 29, 16, 46, 29,  2,  6]])"
      ]
     },
     "execution_count": 20,
     "metadata": {},
     "output_type": "execute_result"
    }
   ],
   "source": [
    "dat=np.random.randint(1,50,size=(10,10))\n",
    "dat"
   ]
  },
  {
   "cell_type": "code",
   "execution_count": 22,
   "metadata": {},
   "outputs": [
    {
     "name": "stdout",
     "output_type": "stream",
     "text": [
      "[[31 29 34]\n",
      " [20 32 47]\n",
      " [25 33 21]]\n",
      "(3, 3)\n",
      "9\n",
      "int32\n",
      "4\n"
     ]
    }
   ],
   "source": [
    "import numpy as np\n",
    "dat=np.random.randint(1,50,size=(3,3))\n",
    "print(dat)\n",
    "print(dat.shape)\n",
    "print(dat.size)\n",
    "print(dat.dtype)\n",
    "print(dat.itemsize)"
   ]
  },
  {
   "cell_type": "code",
   "execution_count": 23,
   "metadata": {},
   "outputs": [
    {
     "name": "stdout",
     "output_type": "stream",
     "text": [
      "[[31 29 34]\n",
      " [20 32 47]\n",
      " [25 33 21]]\n"
     ]
    },
    {
     "data": {
      "text/plain": [
       "array([[25, 33, 21],\n",
       "       [20, 32, 47],\n",
       "       [31, 29, 34]])"
      ]
     },
     "execution_count": 23,
     "metadata": {},
     "output_type": "execute_result"
    }
   ],
   "source": [
    "print(dat)\n",
    "dat[::-1]"
   ]
  },
  {
   "cell_type": "code",
   "execution_count": 26,
   "metadata": {},
   "outputs": [
    {
     "data": {
      "text/plain": [
       "array([[31, 29, 34],\n",
       "       [20, 32, 47]])"
      ]
     },
     "execution_count": 26,
     "metadata": {},
     "output_type": "execute_result"
    }
   ],
   "source": [
    "dat[:-1:]"
   ]
  },
  {
   "cell_type": "code",
   "execution_count": 28,
   "metadata": {},
   "outputs": [
    {
     "data": {
      "text/plain": [
       "array([0, 0, 0, 0, 0, 0, 0, 0, 0, 0])"
      ]
     },
     "execution_count": 28,
     "metadata": {},
     "output_type": "execute_result"
    }
   ],
   "source": [
    "# create a length 10 integer array filled with zeroes\n",
    "np.zeros(10,dtype='int')"
   ]
  },
  {
   "cell_type": "code",
   "execution_count": 29,
   "metadata": {},
   "outputs": [
    {
     "data": {
      "text/plain": [
       "array([[1., 1., 1.],\n",
       "       [1., 1., 1.],\n",
       "       [1., 1., 1.]])"
      ]
     },
     "execution_count": 29,
     "metadata": {},
     "output_type": "execute_result"
    }
   ],
   "source": [
    "np.ones((3,3),dtype='float') # () -tuple"
   ]
  },
  {
   "cell_type": "code",
   "execution_count": 30,
   "metadata": {},
   "outputs": [
    {
     "data": {
      "text/plain": [
       "array([[12.1, 12.1, 12.1],\n",
       "       [12.1, 12.1, 12.1],\n",
       "       [12.1, 12.1, 12.1]])"
      ]
     },
     "execution_count": 30,
     "metadata": {},
     "output_type": "execute_result"
    }
   ],
   "source": [
    "np.full((3,3),12.10) # to get matrix with one element"
   ]
  },
  {
   "cell_type": "code",
   "execution_count": 38,
   "metadata": {},
   "outputs": [
    {
     "data": {
      "text/plain": [
       "array([0.  , 0.25, 0.5 , 0.75, 1.  ])"
      ]
     },
     "execution_count": 38,
     "metadata": {},
     "output_type": "execute_result"
    }
   ],
   "source": [
    "# evenly spaced elements in array using linspace\n",
    "np.linspace(0,1,5)"
   ]
  },
  {
   "cell_type": "code",
   "execution_count": 36,
   "metadata": {},
   "outputs": [
    {
     "data": {
      "text/plain": [
       "array([[1, 0, 0],\n",
       "       [0, 1, 0],\n",
       "       [0, 0, 1]])"
      ]
     },
     "execution_count": 36,
     "metadata": {},
     "output_type": "execute_result"
    }
   ],
   "source": [
    "# Identity matrix\n",
    "np.eye(3,dtype='int')"
   ]
  },
  {
   "cell_type": "code",
   "execution_count": 53,
   "metadata": {},
   "outputs": [
    {
     "name": "stdout",
     "output_type": "stream",
     "text": [
      "[[0 1 2]\n",
      " [3 4 5]\n",
      " [6 7 8]]\n",
      "[[10 11 12]\n",
      " [13 14 15]\n",
      " [16 17 18]]\n",
      "[[10 12 14]\n",
      " [16 18 20]\n",
      " [22 24 26]]\n",
      "[[-10 -10 -10]\n",
      " [-10 -10 -10]\n",
      " [-10 -10 -10]]\n",
      "[[  0  11  24]\n",
      " [ 39  56  75]\n",
      " [ 96 119 144]]\n",
      "[[0.         0.09090909 0.16666667]\n",
      " [0.23076923 0.28571429 0.33333333]\n",
      " [0.375      0.41176471 0.44444444]]\n",
      "[[0 1 2]\n",
      " [3 4 5]\n",
      " [6 7 8]]\n"
     ]
    }
   ],
   "source": [
    "x=np.arange(0,9).reshape(3,3)\n",
    "print(x)\n",
    "y=np.arange(10,19).reshape(3,3)\n",
    "print(y)\n",
    "add=x+y\n",
    "sub=x-y\n",
    "mul=x*y\n",
    "div=x/y\n",
    "modd=x%y\n",
    "print(add)\n",
    "print(sub)\n",
    "print(mul)\n",
    "print(div)\n",
    "print(modd)"
   ]
  },
  {
   "cell_type": "code",
   "execution_count": 55,
   "metadata": {},
   "outputs": [
    {
     "name": "stdout",
     "output_type": "stream",
     "text": [
      "[[0 1 2]\n",
      " [3 4 5]\n",
      " [6 7 8]]\n",
      "[[88 74 76]\n",
      " [78 50 60]\n",
      " [60 19 84]]\n",
      "[[88 75 78]\n",
      " [81 54 65]\n",
      " [66 26 92]]\n",
      "[[-88 -73 -74]\n",
      " [-75 -46 -55]\n",
      " [-54 -12 -76]]\n",
      "[[  0  74 152]\n",
      " [234 200 300]\n",
      " [360 133 672]]\n",
      "[[0.         0.01351351 0.02631579]\n",
      " [0.03846154 0.08       0.08333333]\n",
      " [0.1        0.36842105 0.0952381 ]]\n",
      "[[0 1 2]\n",
      " [3 4 5]\n",
      " [6 7 8]]\n"
     ]
    }
   ],
   "source": [
    "x=np.arange(0,9).reshape(3,3)\n",
    "print(x)\n",
    "y=np.random.randint(10,100,size=(3,3))\n",
    "print(y)\n",
    "add=x+y\n",
    "sub=x-y\n",
    "mul=x*y\n",
    "div=x/y\n",
    "modd=x%y\n",
    "print(add)\n",
    "print(sub)\n",
    "print(mul)\n",
    "print(div)\n",
    "print(modd)"
   ]
  },
  {
   "cell_type": "code",
   "execution_count": 57,
   "metadata": {},
   "outputs": [
    {
     "data": {
      "text/plain": [
       "array([0.        , 1.57079633, 3.14159265])"
      ]
     },
     "execution_count": 57,
     "metadata": {},
     "output_type": "execute_result"
    }
   ],
   "source": [
    "# trigonometric operations\n",
    "t1=np.linspace(0,np.pi,3)\n",
    "t1"
   ]
  },
  {
   "cell_type": "code",
   "execution_count": 60,
   "metadata": {},
   "outputs": [
    {
     "name": "stdout",
     "output_type": "stream",
     "text": [
      "sin(t)= [0.0000000e+00 1.0000000e+00 1.2246468e-16]\n",
      "cos(t)= [ 1.000000e+00  6.123234e-17 -1.000000e+00]\n",
      "tan(t)= [ 0.00000000e+00  1.63312394e+16 -1.22464680e-16]\n"
     ]
    }
   ],
   "source": [
    "print(\"sin(t)=\",np.sin(t1))\n",
    "print(\"cos(t)=\",np.cos(t1))\n",
    "print(\"tan(t)=\",np.tan(t1))"
   ]
  },
  {
   "cell_type": "code",
   "execution_count": 61,
   "metadata": {},
   "outputs": [
    {
     "name": "stdout",
     "output_type": "stream",
     "text": [
      "[[0.         0.69314718 1.09861229]\n",
      " [1.38629436 1.60943791 1.79175947]\n",
      " [1.94591015 2.07944154 2.19722458]]\n",
      "[[0.         1.         1.5849625 ]\n",
      " [2.         2.32192809 2.5849625 ]\n",
      " [2.80735492 3.         3.169925  ]]\n",
      "[[0.         0.30103    0.47712125]\n",
      " [0.60205999 0.69897    0.77815125]\n",
      " [0.84509804 0.90308999 0.95424251]]\n",
      "[[2.71828183e+00 7.38905610e+00 2.00855369e+01]\n",
      " [5.45981500e+01 1.48413159e+02 4.03428793e+02]\n",
      " [1.09663316e+03 2.98095799e+03 8.10308393e+03]]\n"
     ]
    }
   ],
   "source": [
    "x1=np.arange(1,10).reshape(3,3)\n",
    "print(np.log(x1))\n",
    "print(np.log2(x1))\n",
    "print(np.log10(x1))\n",
    "print(np.exp(x1))"
   ]
  },
  {
   "cell_type": "code",
   "execution_count": null,
   "metadata": {},
   "outputs": [],
   "source": []
  }
 ],
 "metadata": {
  "kernelspec": {
   "display_name": "Python 3",
   "language": "python",
   "name": "python3"
  },
  "language_info": {
   "codemirror_mode": {
    "name": "ipython",
    "version": 3
   },
   "file_extension": ".py",
   "mimetype": "text/x-python",
   "name": "python",
   "nbconvert_exporter": "python",
   "pygments_lexer": "ipython3",
   "version": "3.7.6"
  }
 },
 "nbformat": 4,
 "nbformat_minor": 4
}
