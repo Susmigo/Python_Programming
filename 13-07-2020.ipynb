{
 "cells": [
  {
   "cell_type": "markdown",
   "metadata": {},
   "source": [
    "# Heading\n",
    "## Heading\n",
    "### Heading\n",
    "*italic*\n",
    "\n",
    "**bold**\n",
    "\n",
    "***Bold italic***\n",
    "\n"
   ]
  },
  {
   "cell_type": "markdown",
   "metadata": {},
   "source": [
    "# variable\n",
    "- hello\n",
    "- How are you?\n",
    "\n"
   ]
  },
  {
   "cell_type": "code",
   "execution_count": 4,
   "metadata": {},
   "outputs": [
    {
     "name": "stdout",
     "output_type": "stream",
     "text": [
      "['False', 'None', 'True', 'and', 'as', 'assert', 'async', 'await', 'break', 'class', 'continue', 'def', 'del', 'elif', 'else', 'except', 'finally', 'for', 'from', 'global', 'if', 'import', 'in', 'is', 'lambda', 'nonlocal', 'not', 'or', 'pass', 'raise', 'return', 'try', 'while', 'with', 'yield']\n"
     ]
    }
   ],
   "source": [
    "import keyword\n",
    "print(keyword.kwlist,end='\\n')\n",
    "\n"
   ]
  },
  {
   "cell_type": "markdown",
   "metadata": {},
   "source": [
    "- hello\n",
    "    - hi\n",
    "    - hello\n",
    "    \n",
    "    "
   ]
  },
  {
   "cell_type": "code",
   "execution_count": 2,
   "metadata": {},
   "outputs": [
    {
     "name": "stdout",
     "output_type": "stream",
     "text": [
      "\n",
      "Please wait a moment while I gather a list of all available modules...\n",
      "\n",
      "Crypto              brain_threading     mccabe              socket\n",
      "Cython              brain_typing        menuinst            socketserver\n",
      "IPython             brain_uuid          mimetypes           socks\n",
      "OpenSSL             bs4                 mistune             sockshandler\n",
      "PIL                 builtins            mkl                 sortedcollections\n",
      "PyQt5               bz2                 mkl_fft             sortedcontainers\n",
      "__future__          cProfile            mkl_random          soupsieve\n",
      "_abc                calendar            mmap                sphinx\n",
      "_ast                certifi             mmapfile            sphinxcontrib\n",
      "_asyncio            cffi                mmsystem            sphinxify\n",
      "_bisect             cgi                 mock                sphinxthread\n",
      "_blake2             cgitb               modulefinder        spyder\n",
      "_bootlocale         chardet             more_itertools      spyder_kernels\n",
      "_bz2                chunk               mpmath              sqlalchemy\n",
      "_cffi_backend       click               msgpack             sqlite3\n",
      "_codecs             cloudpickle         msilib              sre_compile\n",
      "_codecs_cn          clyent              msvcrt              sre_constants\n",
      "_codecs_hk          cmath               multipledispatch    sre_parse\n",
      "_codecs_iso2022     cmd                 multiprocessing     ssl\n",
      "_codecs_jp          code                nacl                sspi\n",
      "_codecs_kr          codecs              navigator_updater   sspicon\n",
      "_codecs_tw          codeop              nbconvert           stat\n",
      "_collections        collections         nbformat            statistics\n",
      "_collections_abc    colorama            netbios             statsmodels\n",
      "_compat_pickle      colorsys            netrc               storemagic\n",
      "_compression        commctrl            networkx            string\n",
      "_contextvars        compileall          nltk                stringprep\n",
      "_csv                comtypes            nntplib             struct\n",
      "_ctypes             concurrent          nose                subprocess\n",
      "_ctypes_test        conda               notebook            sunau\n",
      "_datetime           conda_build         nt                  symbol\n",
      "_decimal            conda_env           ntpath              sympy\n",
      "_dummy_thread       conda_package_handling ntsecuritycon       sympyprinting\n",
      "_elementtree        conda_verify        nturl2path          symtable\n",
      "_functools          conf                numba               sys\n",
      "_hashlib            configparser        numbers             sysconfig\n",
      "_heapq              contextlib          numexpr             tables\n",
      "_imp                contextlib2         numpy               tabnanny\n",
      "_io                 contextvars         numpydoc            tarfile\n",
      "_json               copy                odbc                tblib\n",
      "_locale             copyreg             olefile             telnetlib\n",
      "_lsprof             crypt               opcode              tempfile\n",
      "_lzma               cryptography        openpyxl            terminado\n",
      "_markupbase         csv                 operator            test\n",
      "_md5                ctypes              optparse            test_data\n",
      "_msi                curl                os                  test_pycosat\n",
      "_multibytecodec     curses              packaging           testpath\n",
      "_multiprocessing    cwp                 pandas              tests\n",
      "_nsis               cycler              pandocfilters       textwrap\n",
      "_opcode             cython              paramiko            this\n",
      "_operator           cythonmagic         parser              threading\n",
      "_osx_support        cytoolz             parso               time\n",
      "_overlapped         dask                partd               timeit\n",
      "_pickle             dataclasses         past                timer\n",
      "_py_abc             datetime            path                tkinter\n",
      "_pydecimal          dateutil            pathlib             tlz\n",
      "_pyio               dbi                 pathlib2            token\n",
      "_pylief             dbm                 pathtools           tokenize\n",
      "_pyrsistent_version dde                 patsy               toolz\n",
      "_pytest             decimal             pdb                 tornado\n",
      "_queue              decorator           pep8                tqdm\n",
      "_random             defusedxml          perfmon             trace\n",
      "_sha1               diff_match_patch    pexpect             traceback\n",
      "_sha256             difflib             pickle              tracemalloc\n",
      "_sha3               dis                 pickleshare         traitlets\n",
      "_sha512             distributed         pickletools         tty\n",
      "_signal             distutils           pip                 turtle\n",
      "_sitebuiltins       doctest             pipes               turtledemo\n",
      "_socket             docutils            pkg_resources       types\n",
      "_sqlite3            dummy_threading     pkginfo             typing\n",
      "_sre                easy_install        pkgutil             ujson\n",
      "_ssl                email               platform            unicodecsv\n",
      "_stat               encodings           plistlib            unicodedata\n",
      "_string             ensurepip           pluggy              unittest\n",
      "_strptime           entrypoints         ply                 urllib\n",
      "_struct             enum                poplib              urllib3\n",
      "_symtable           errno               posixpath           uu\n",
      "_system_path        et_xmlfile          pprint              uuid\n",
      "_testbuffer         fastcache           profile             venv\n",
      "_testcapi           faulthandler        prometheus_client   warnings\n",
      "_testconsole        filecmp             prompt_toolkit      watchdog\n",
      "_testimportmultiple fileinput           pstats              wave\n",
      "_testmultiphase     filelock            psutil              wcwidth\n",
      "_thread             flake8              pty                 weakref\n",
      "_threading_local    flask               pvectorc            webbrowser\n",
      "_tkinter            fnmatch             py                  webencodings\n",
      "_tracemalloc        formatter           py_compile          werkzeug\n",
      "_warnings           fractions           pyclbr              wheel\n",
      "_weakref            fsspec              pycodestyle         widgetsnbextension\n",
      "_weakrefset         ftplib              pycosat             win2kras\n",
      "_win32sysloader     functools           pycparser           win32api\n",
      "_winapi             future              pycurl              win32clipboard\n",
      "_winxptheme         gc                  pydoc               win32com\n",
      "_yaml               genericpath         pydoc_data          win32con\n",
      "abc                 getopt              pydocstyle          win32console\n",
      "adodbapi            getpass             pyexpat             win32cred\n",
      "afxres              gettext             pyflakes            win32crypt\n",
      "aifc                gevent              pygments            win32cryptcon\n",
      "alabaster           glob                pylab               win32ctypes\n",
      "anaconda_navigator  glob2               pylint              win32event\n",
      "anaconda_project    greenlet            pyls                win32evtlog\n",
      "antigravity         gzip                pyls_jsonrpc        win32evtlogutil\n",
      "argh                h5py                pyodbc              win32file\n",
      "argparse            hashlib             pyparsing           win32gui\n",
      "array               heapdict            pyreadline          win32gui_struct\n",
      "asn1crypto          heapq               pyrsistent          win32help\n",
      "ast                 hmac                pytest              win32inet\n",
      "astroid             html                pytest_arraydiff    win32inetcon\n",
      "astropy             html5lib            pytest_astropy_header win32job\n",
      "asynchat            http                pytest_doctestplus  win32lz\n",
      "asyncio             hypothesis          pytest_openfiles    win32net\n",
      "asyncore            idlelib             pytest_remotedata   win32netcon\n",
      "atexit              idna                pythoncom           win32pdh\n",
      "atomicwrites        imageio             pytz                win32pdhquery\n",
      "attr                imagesize           pywin               win32pdhutil\n",
      "audioop             imaplib             pywin32_bootstrap   win32pipe\n",
      "autopep8            imghdr              pywin32_testutil    win32print\n",
      "autoreload          imp                 pywintypes          win32process\n",
      "babel               importlib           pywt                win32profile\n",
      "backcall            importlib_metadata  pyximport           win32ras\n",
      "backports           inspect             qdarkstyle          win32rcparser\n",
      "base64              intervaltree        qtawesome           win32security\n",
      "bcrypt              io                  qtconsole           win32service\n",
      "bdb                 ipaddress           qtpy                win32serviceutil\n",
      "binascii            ipykernel           queue               win32timezone\n",
      "binhex              ipykernel_launcher  quopri              win32trace\n",
      "binstar_client      ipython_genutils    random              win32traceutil\n",
      "bisect              ipywidgets          rasutil             win32transaction\n",
      "bitarray            isapi               re                  win32ts\n",
      "bkcharts            isort               readline            win32ui\n",
      "bleach              isympy              regcheck            win32uiole\n",
      "bokeh               itertools           regutil             win32verstamp\n",
      "boto                itsdangerous        reprlib             win32wnet\n",
      "bottleneck          jdcal               requests            win_inet_pton\n",
      "brain_argparse      jedi                rlcompleter         win_unicode_console\n",
      "brain_attrs         jinja2              rmagic              wincertstore\n",
      "brain_builtin_inference joblib              rope                winerror\n",
      "brain_collections   json                rtree               winioctlcon\n",
      "brain_crypt         json5               ruamel_yaml         winnt\n",
      "brain_curses        jsonschema          run                 winperf\n",
      "brain_dataclasses   jupyter             runpy               winpty\n",
      "brain_dateutil      jupyter_client      sched               winreg\n",
      "brain_fstrings      jupyter_console     scipy               winsound\n",
      "brain_functools     jupyter_core        scripts             winxpgui\n",
      "brain_gi            jupyterlab          seaborn             winxptheme\n",
      "brain_hashlib       jupyterlab_server   secrets             wrapt\n",
      "brain_http          keyring             select              wsgiref\n",
      "brain_io            keyword             selectors           xdrlib\n",
      "brain_mechanize     kiwisolver          send2trash          xlrd\n",
      "brain_multiprocessing lazy_object_proxy   servicemanager      xlsxwriter\n",
      "brain_namedtuple_enum lib2to3             setuptools          xlwings\n",
      "brain_nose          libarchive          shelve              xlwt\n",
      "brain_numpy_core_fromnumeric libfuturize         shlex               xml\n",
      "brain_numpy_core_function_base libpasteurize       shutil              xmlrpc\n",
      "brain_numpy_core_multiarray lief                signal              xmltodict\n",
      "brain_numpy_core_numeric linecache           simplegeneric       xxsubtype\n",
      "brain_numpy_core_numerictypes llvmlite            singledispatch      yaml\n",
      "brain_numpy_core_umath locale              singledispatch_helpers yapf\n",
      "brain_numpy_ndarray locket              sip                 yapftests\n",
      "brain_numpy_random_mtrand logging             sipconfig           zict\n",
      "brain_numpy_utils   lxml                sipdistutils        zipapp\n",
      "brain_pkg_resources lzma                site                zipfile\n",
      "brain_pytest        macpath             six                 zipimport\n",
      "brain_qt            mailbox             skimage             zipp\n",
      "brain_random        mailcap             sklearn             zlib\n",
      "brain_re            markupsafe          smtpd               zmq\n",
      "brain_six           marshal             smtplib             \n",
      "brain_ssl           math                sndhdr              \n",
      "brain_subprocess    matplotlib          snowballstemmer     \n",
      "\n",
      "Enter any module name to get more help.  Or, type \"modules spam\" to search\n",
      "for modules whose name or summary contain the string \"spam\".\n",
      "\n"
     ]
    }
   ],
   "source": [
    "help(\"modules\")"
   ]
  },
  {
   "cell_type": "code",
   "execution_count": 3,
   "metadata": {},
   "outputs": [],
   "source": [
    "import calendar\n"
   ]
  },
  {
   "cell_type": "code",
   "execution_count": 4,
   "metadata": {},
   "outputs": [
    {
     "name": "stdout",
     "output_type": "stream",
     "text": [
      "                                  2020\n",
      "\n",
      "      January                   February                   March\n",
      "Mo Tu We Th Fr Sa Su      Mo Tu We Th Fr Sa Su      Mo Tu We Th Fr Sa Su\n",
      "       1  2  3  4  5                      1  2                         1\n",
      " 6  7  8  9 10 11 12       3  4  5  6  7  8  9       2  3  4  5  6  7  8\n",
      "13 14 15 16 17 18 19      10 11 12 13 14 15 16       9 10 11 12 13 14 15\n",
      "20 21 22 23 24 25 26      17 18 19 20 21 22 23      16 17 18 19 20 21 22\n",
      "27 28 29 30 31            24 25 26 27 28 29         23 24 25 26 27 28 29\n",
      "                                                    30 31\n",
      "\n",
      "       April                      May                       June\n",
      "Mo Tu We Th Fr Sa Su      Mo Tu We Th Fr Sa Su      Mo Tu We Th Fr Sa Su\n",
      "       1  2  3  4  5                   1  2  3       1  2  3  4  5  6  7\n",
      " 6  7  8  9 10 11 12       4  5  6  7  8  9 10       8  9 10 11 12 13 14\n",
      "13 14 15 16 17 18 19      11 12 13 14 15 16 17      15 16 17 18 19 20 21\n",
      "20 21 22 23 24 25 26      18 19 20 21 22 23 24      22 23 24 25 26 27 28\n",
      "27 28 29 30               25 26 27 28 29 30 31      29 30\n",
      "\n",
      "        July                     August                  September\n",
      "Mo Tu We Th Fr Sa Su      Mo Tu We Th Fr Sa Su      Mo Tu We Th Fr Sa Su\n",
      "       1  2  3  4  5                      1  2          1  2  3  4  5  6\n",
      " 6  7  8  9 10 11 12       3  4  5  6  7  8  9       7  8  9 10 11 12 13\n",
      "13 14 15 16 17 18 19      10 11 12 13 14 15 16      14 15 16 17 18 19 20\n",
      "20 21 22 23 24 25 26      17 18 19 20 21 22 23      21 22 23 24 25 26 27\n",
      "27 28 29 30 31            24 25 26 27 28 29 30      28 29 30\n",
      "                          31\n",
      "\n",
      "      October                   November                  December\n",
      "Mo Tu We Th Fr Sa Su      Mo Tu We Th Fr Sa Su      Mo Tu We Th Fr Sa Su\n",
      "          1  2  3  4                         1          1  2  3  4  5  6\n",
      " 5  6  7  8  9 10 11       2  3  4  5  6  7  8       7  8  9 10 11 12 13\n",
      "12 13 14 15 16 17 18       9 10 11 12 13 14 15      14 15 16 17 18 19 20\n",
      "19 20 21 22 23 24 25      16 17 18 19 20 21 22      21 22 23 24 25 26 27\n",
      "26 27 28 29 30 31         23 24 25 26 27 28 29      28 29 30 31\n",
      "                          30\n",
      "\n"
     ]
    }
   ],
   "source": [
    "import calendar\n",
    "print(calendar.calendar(2020))"
   ]
  },
  {
   "cell_type": "code",
   "execution_count": 5,
   "metadata": {},
   "outputs": [
    {
     "name": "stdout",
     "output_type": "stream",
     "text": [
      "                                  1999\n",
      "\n",
      "      January                   February                   March\n",
      "Mo Tu We Th Fr Sa Su      Mo Tu We Th Fr Sa Su      Mo Tu We Th Fr Sa Su\n",
      "             1  2  3       1  2  3  4  5  6  7       1  2  3  4  5  6  7\n",
      " 4  5  6  7  8  9 10       8  9 10 11 12 13 14       8  9 10 11 12 13 14\n",
      "11 12 13 14 15 16 17      15 16 17 18 19 20 21      15 16 17 18 19 20 21\n",
      "18 19 20 21 22 23 24      22 23 24 25 26 27 28      22 23 24 25 26 27 28\n",
      "25 26 27 28 29 30 31                                29 30 31\n",
      "\n",
      "       April                      May                       June\n",
      "Mo Tu We Th Fr Sa Su      Mo Tu We Th Fr Sa Su      Mo Tu We Th Fr Sa Su\n",
      "          1  2  3  4                      1  2          1  2  3  4  5  6\n",
      " 5  6  7  8  9 10 11       3  4  5  6  7  8  9       7  8  9 10 11 12 13\n",
      "12 13 14 15 16 17 18      10 11 12 13 14 15 16      14 15 16 17 18 19 20\n",
      "19 20 21 22 23 24 25      17 18 19 20 21 22 23      21 22 23 24 25 26 27\n",
      "26 27 28 29 30            24 25 26 27 28 29 30      28 29 30\n",
      "                          31\n",
      "\n",
      "        July                     August                  September\n",
      "Mo Tu We Th Fr Sa Su      Mo Tu We Th Fr Sa Su      Mo Tu We Th Fr Sa Su\n",
      "          1  2  3  4                         1             1  2  3  4  5\n",
      " 5  6  7  8  9 10 11       2  3  4  5  6  7  8       6  7  8  9 10 11 12\n",
      "12 13 14 15 16 17 18       9 10 11 12 13 14 15      13 14 15 16 17 18 19\n",
      "19 20 21 22 23 24 25      16 17 18 19 20 21 22      20 21 22 23 24 25 26\n",
      "26 27 28 29 30 31         23 24 25 26 27 28 29      27 28 29 30\n",
      "                          30 31\n",
      "\n",
      "      October                   November                  December\n",
      "Mo Tu We Th Fr Sa Su      Mo Tu We Th Fr Sa Su      Mo Tu We Th Fr Sa Su\n",
      "             1  2  3       1  2  3  4  5  6  7             1  2  3  4  5\n",
      " 4  5  6  7  8  9 10       8  9 10 11 12 13 14       6  7  8  9 10 11 12\n",
      "11 12 13 14 15 16 17      15 16 17 18 19 20 21      13 14 15 16 17 18 19\n",
      "18 19 20 21 22 23 24      22 23 24 25 26 27 28      20 21 22 23 24 25 26\n",
      "25 26 27 28 29 30 31      29 30                     27 28 29 30 31\n",
      "\n"
     ]
    }
   ],
   "source": [
    "import calendar\n",
    "print(calendar.calendar(1999))"
   ]
  },
  {
   "cell_type": "code",
   "execution_count": 7,
   "metadata": {},
   "outputs": [
    {
     "name": "stdout",
     "output_type": "stream",
     "text": [
      "   December 1999\n",
      "Mo Tu We Th Fr Sa Su\n",
      "       1  2  3  4  5\n",
      " 6  7  8  9 10 11 12\n",
      "13 14 15 16 17 18 19\n",
      "20 21 22 23 24 25 26\n",
      "27 28 29 30 31\n",
      "\n"
     ]
    }
   ],
   "source": [
    "print(calendar.month(1999,12))"
   ]
  },
  {
   "cell_type": "code",
   "execution_count": 3,
   "metadata": {},
   "outputs": [
    {
     "name": "stdout",
     "output_type": "stream",
     "text": [
      "hi\n"
     ]
    },
    {
     "data": {
      "text/plain": [
       "'hi'"
      ]
     },
     "execution_count": 3,
     "metadata": {},
     "output_type": "execute_result"
    }
   ],
   "source": [
    "a = input()\n",
    "a"
   ]
  },
  {
   "cell_type": "code",
   "execution_count": 9,
   "metadata": {},
   "outputs": [
    {
     "name": "stdout",
     "output_type": "stream",
     "text": [
      "Enter the name :hi\n",
      "entered name: hi\n"
     ]
    }
   ],
   "source": [
    "a = input(\"Enter the name :\")\n",
    "print(\"entered name:\",a)"
   ]
  },
  {
   "cell_type": "code",
   "execution_count": 9,
   "metadata": {},
   "outputs": [
    {
     "name": "stdout",
     "output_type": "stream",
     "text": [
      "1\n",
      "2\n",
      "4\n",
      "8\n",
      "16\n",
      "32\n",
      "64\n",
      "128\n",
      "256\n",
      "512\n",
      "1024\n",
      "2048\n",
      "4096\n",
      "8192\n",
      "16384\n",
      "32768\n",
      "65536\n",
      "131072\n",
      "262144\n",
      "524288\n",
      "1048576\n",
      "2097152\n",
      "4194304\n",
      "8388608\n",
      "16777216\n",
      "33554432\n",
      "67108864\n",
      "134217728\n",
      "268435456\n",
      "536870912\n",
      "1073741824\n",
      "2147483648\n",
      "4294967296\n",
      "8589934592\n",
      "17179869184\n",
      "34359738368\n",
      "68719476736\n",
      "137438953472\n",
      "274877906944\n",
      "549755813888\n",
      "1099511627776\n",
      "2199023255552\n",
      "4398046511104\n",
      "8796093022208\n",
      "17592186044416\n",
      "35184372088832\n",
      "70368744177664\n",
      "140737488355328\n",
      "281474976710656\n",
      "562949953421312\n",
      "1125899906842624\n",
      "2251799813685248\n",
      "4503599627370496\n",
      "9007199254740992\n",
      "18014398509481984\n",
      "36028797018963968\n",
      "72057594037927936\n",
      "144115188075855872\n",
      "288230376151711744\n",
      "576460752303423488\n",
      "1152921504606846976\n",
      "2305843009213693952\n",
      "4611686018427387904\n",
      "9223372036854775808\n",
      "18446744073709551616\n",
      "36893488147419103232\n",
      "73786976294838206464\n",
      "147573952589676412928\n",
      "295147905179352825856\n",
      "590295810358705651712\n",
      "1180591620717411303424\n",
      "2361183241434822606848\n",
      "4722366482869645213696\n",
      "9444732965739290427392\n",
      "18889465931478580854784\n",
      "37778931862957161709568\n",
      "75557863725914323419136\n",
      "151115727451828646838272\n",
      "302231454903657293676544\n",
      "604462909807314587353088\n",
      "1208925819614629174706176\n",
      "2417851639229258349412352\n",
      "4835703278458516698824704\n",
      "9671406556917033397649408\n",
      "19342813113834066795298816\n",
      "38685626227668133590597632\n",
      "77371252455336267181195264\n",
      "154742504910672534362390528\n",
      "309485009821345068724781056\n",
      "618970019642690137449562112\n",
      "1237940039285380274899124224\n",
      "2475880078570760549798248448\n",
      "4951760157141521099596496896\n",
      "9903520314283042199192993792\n",
      "19807040628566084398385987584\n",
      "39614081257132168796771975168\n",
      "79228162514264337593543950336\n",
      "158456325028528675187087900672\n",
      "316912650057057350374175801344\n",
      "633825300114114700748351602688\n"
     ]
    }
   ],
   "source": [
    "for i in range(100):\n",
    "    print(2**i)"
   ]
  },
  {
   "cell_type": "markdown",
   "metadata": {},
   "source": [
    "<img src=\"https://www.pngwing.com/en/free-png-ynedu\" />"
   ]
  },
  {
   "cell_type": "code",
   "execution_count": null,
   "metadata": {},
   "outputs": [],
   "source": []
  }
 ],
 "metadata": {
  "kernelspec": {
   "display_name": "Python 3",
   "language": "python",
   "name": "python3"
  },
  "language_info": {
   "codemirror_mode": {
    "name": "ipython",
    "version": 3
   },
   "file_extension": ".py",
   "mimetype": "text/x-python",
   "name": "python",
   "nbconvert_exporter": "python",
   "pygments_lexer": "ipython3",
   "version": "3.7.6"
  }
 },
 "nbformat": 4,
 "nbformat_minor": 4
}
