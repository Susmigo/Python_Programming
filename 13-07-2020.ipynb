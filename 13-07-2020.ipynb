{
 "cells": [
  {
   "cell_type": "markdown",
   "metadata": {},
   "source": [
    "# Heading\n",
    "## Heading\n",
    "### Heading\n",
    "*italic*\n",
    "\n",
    "**bold**\n",
    "\n",
    "***Bold italic***\n",
    "\n"
   ]
  },
  {
   "cell_type": "markdown",
   "metadata": {},
   "source": [
    "# variable\n",
    "- hello\n",
    "- How are you?\n",
    "\n"
   ]
  },
  {
   "cell_type": "code",
   "execution_count": 4,
   "metadata": {},
   "outputs": [
    {
     "name": "stdout",
     "output_type": "stream",
     "text": [
      "['False', 'None', 'True', 'and', 'as', 'assert', 'async', 'await', 'break', 'class', 'continue', 'def', 'del', 'elif', 'else', 'except', 'finally', 'for', 'from', 'global', 'if', 'import', 'in', 'is', 'lambda', 'nonlocal', 'not', 'or', 'pass', 'raise', 'return', 'try', 'while', 'with', 'yield']\n"
     ]
    }
   ],
   "source": [
    "import keyword\n",
    "print(keyword.kwlist,end='\\n')\n",
    "\n"
   ]
  },
  {
   "cell_type": "markdown",
   "metadata": {},
   "source": [
    "- hello\n",
    "    - hi\n",
    "    - hello\n",
    "    \n",
    "    "
   ]
  },
  {
   "cell_type": "code",
   "execution_count": 1,
   "metadata": {},
   "outputs": [
    {
     "name": "stdout",
     "output_type": "stream",
     "text": [
      "\n",
      "Please wait a moment while I gather a list of all available modules...\n",
      "\n"
     ]
    },
    {
     "name": "stderr",
     "output_type": "stream",
     "text": [
      "C:\\Users\\vardh\\anaconda3\\lib\\site-packages\\IPython\\kernel\\__init__.py:13: ShimWarning: The `IPython.kernel` package has been deprecated since IPython 4.0.You should import from ipykernel or jupyter_client instead.\n",
      "  \"You should import from ipykernel or jupyter_client instead.\", ShimWarning)\n",
      "distributed.dashboard.proxy - INFO - To route to workers diagnostics web server please install jupyter-server-proxy: python -m pip install jupyter-server-proxy\n",
      "C:\\Users\\vardh\\anaconda3\\lib\\site-packages\\nltk\\twitter\\__init__.py:22: UserWarning: The twython library has not been installed. Some functionality from the twitter package will not be available.\n",
      "  \"The twython library has not been installed. \"\n",
      "C:\\Users\\vardh\\anaconda3\\lib\\site-packages\\skimage\\viewer\\utils\\__init__.py:1: UserWarning: Recommended matplotlib backend is `Agg` for full skimage.viewer functionality.\n",
      "  from .core import *\n",
      "C:\\Users\\vardh\\anaconda3\\lib\\site-packages\\sklearn\\externals\\joblib\\__init__.py:15: FutureWarning: sklearn.externals.joblib is deprecated in 0.21 and will be removed in 0.23. Please import this functionality directly from joblib, which can be installed with: pip install joblib. If this warning is raised when loading pickled models, you may need to re-serialize those models with scikit-learn 0.21+.\n",
      "  warnings.warn(msg, category=FutureWarning)\n",
      "C:\\Users\\vardh\\anaconda3\\lib\\site-packages\\qtawesome\\iconic_font.py:312: UserWarning: You need to have a running QApplication to use QtAwesome!\n",
      "  warnings.warn(\"You need to have a running \"\n",
      "C:\\Users\\vardh\\anaconda3\\lib\\pkgutil.py:107: VisibleDeprecationWarning: zmq.eventloop.minitornado is deprecated in pyzmq 14.0 and will be removed.\n",
      "    Install tornado itself to use zmq with the tornado IOLoop.\n",
      "    \n",
      "  yield from walk_packages(path, info.name+'.', onerror)\n"
     ]
    },
    {
     "name": "stdout",
     "output_type": "stream",
     "text": [
      "Crypto              brain_subprocess    matplotlib          sndhdr\n",
      "Cython              brain_threading     mccabe              snowballstemmer\n",
      "IPython             brain_typing        menuinst            socket\n",
      "OpenSSL             brain_uuid          mimetypes           socketserver\n",
      "PIL                 bs4                 mistune             socks\n",
      "PyQt5               builtins            mkl                 sockshandler\n",
      "__future__          bz2                 mkl_fft             sortedcollections\n",
      "_abc                cProfile            mkl_random          sortedcontainers\n",
      "_ast                calendar            mmap                soupsieve\n",
      "_asyncio            certifi             mmapfile            sphinx\n",
      "_bisect             cffi                mmsystem            sphinxcontrib\n",
      "_blake2             cgi                 mock                spyder\n",
      "_bootlocale         cgitb               modulefinder        spyder_kernels\n",
      "_bz2                chardet             more_itertools      sqlalchemy\n",
      "_cffi_backend       chunk               mpmath              sqlite3\n",
      "_codecs             click               msgpack             sre_compile\n",
      "_codecs_cn          cloudpickle         msilib              sre_constants\n",
      "_codecs_hk          clyent              msvcrt              sre_parse\n",
      "_codecs_iso2022     cmath               multipledispatch    ssl\n",
      "_codecs_jp          cmd                 multiprocessing     sspi\n",
      "_codecs_kr          code                nacl                sspicon\n",
      "_codecs_tw          codecs              navigator_updater   stat\n",
      "_collections        codeop              nbconvert           statistics\n",
      "_collections_abc    collections         nbformat            statsmodels\n",
      "_compat_pickle      colorama            netbios             storemagic\n",
      "_compression        colorsys            netrc               string\n",
      "_contextvars        commctrl            networkx            stringprep\n",
      "_csv                compileall          nltk                struct\n",
      "_ctypes             comtypes            nntplib             subprocess\n",
      "_ctypes_test        concurrent          nose                sunau\n",
      "_datetime           conda               notebook            symbol\n",
      "_decimal            conda_build         nt                  sympy\n",
      "_dummy_thread       conda_env           ntpath              sympyprinting\n",
      "_elementtree        conda_package_handling ntsecuritycon       symtable\n",
      "_functools          conda_verify        nturl2path          sys\n",
      "_hashlib            configparser        numba               sysconfig\n",
      "_heapq              contextlib          numbers             tables\n",
      "_imp                contextlib2         numexpr             tabnanny\n",
      "_io                 contextvars         numpy               tarfile\n",
      "_json               copy                numpydoc            tblib\n",
      "_locale             copyreg             odbc                telnetlib\n",
      "_lsprof             crypt               olefile             tempfile\n",
      "_lzma               cryptography        opcode              terminado\n",
      "_markupbase         csv                 openpyxl            test\n",
      "_md5                ctypes              operator            test_data\n",
      "_msi                curl                optparse            test_pycosat\n",
      "_multibytecodec     curses              os                  testpath\n",
      "_multiprocessing    cwp                 packaging           tests\n",
      "_nsis               cycler              pandas              textwrap\n",
      "_opcode             cython              pandocfilters       this\n",
      "_operator           cythonmagic         paramiko            threading\n",
      "_osx_support        cytoolz             parser              time\n",
      "_overlapped         dask                parso               timeit\n",
      "_pickle             dataclasses         partd               timer\n",
      "_py_abc             datetime            past                tkinter\n",
      "_pydecimal          dateutil            path                tlz\n",
      "_pyio               dbi                 pathlib             token\n",
      "_pylief             dbm                 pathlib2            tokenize\n",
      "_pyrsistent_version dde                 pathtools           toolz\n",
      "_pytest             decimal             patsy               tornado\n",
      "_queue              decorator           pdb                 tqdm\n",
      "_random             defusedxml          pep8                trace\n",
      "_sha1               diff_match_patch    perfmon             traceback\n",
      "_sha256             difflib             pexpect             tracemalloc\n",
      "_sha3               dis                 pickle              traitlets\n",
      "_sha512             distributed         pickleshare         tty\n",
      "_signal             distutils           pickletools         turtle\n",
      "_sitebuiltins       doctest             pip                 turtledemo\n",
      "_socket             docutils            pipes               types\n",
      "_sqlite3            dummy_threading     pkg_resources       typing\n",
      "_sre                easy_install        pkginfo             ujson\n",
      "_ssl                email               pkgutil             unicodecsv\n",
      "_stat               encodings           platform            unicodedata\n",
      "_string             ensurepip           plistlib            unittest\n",
      "_strptime           entrypoints         pluggy              urllib\n",
      "_struct             enum                ply                 urllib3\n",
      "_symtable           errno               poplib              uu\n",
      "_system_path        et_xmlfile          posixpath           uuid\n",
      "_testbuffer         fastcache           pprint              venv\n",
      "_testcapi           faulthandler        profile             warnings\n",
      "_testconsole        filecmp             prometheus_client   watchdog\n",
      "_testimportmultiple fileinput           prompt_toolkit      wave\n",
      "_testmultiphase     filelock            pstats              wcwidth\n",
      "_thread             flake8              psutil              weakref\n",
      "_threading_local    flask               pty                 webbrowser\n",
      "_tkinter            fnmatch             pvectorc            webencodings\n",
      "_tracemalloc        formatter           py                  werkzeug\n",
      "_warnings           fractions           py_compile          wheel\n",
      "_weakref            fsspec              pyclbr              widgetsnbextension\n",
      "_weakrefset         ftplib              pycodestyle         win2kras\n",
      "_win32sysloader     functools           pycosat             win32api\n",
      "_winapi             future              pycparser           win32clipboard\n",
      "_winxptheme         gc                  pycurl              win32com\n",
      "_yaml               genericpath         pydoc               win32con\n",
      "abc                 getopt              pydoc_data          win32console\n",
      "adodbapi            getpass             pydocstyle          win32cred\n",
      "afxres              gettext             pyexpat             win32crypt\n",
      "aifc                gevent              pyflakes            win32cryptcon\n",
      "alabaster           glob                pygments            win32ctypes\n",
      "anaconda_navigator  glob2               pylab               win32event\n",
      "anaconda_project    greenlet            pylint              win32evtlog\n",
      "antigravity         gzip                pyls                win32evtlogutil\n",
      "argh                h5py                pyls_jsonrpc        win32file\n",
      "argparse            hashlib             pyodbc              win32gui\n",
      "array               heapdict            pyparsing           win32gui_struct\n",
      "asn1crypto          heapq               pyreadline          win32help\n",
      "ast                 hmac                pyrsistent          win32inet\n",
      "astroid             html                pytest              win32inetcon\n",
      "astropy             html5lib            pytest_arraydiff    win32job\n",
      "asynchat            http                pytest_astropy_header win32lz\n",
      "asyncio             hypothesis          pytest_doctestplus  win32net\n",
      "asyncore            idlelib             pytest_openfiles    win32netcon\n",
      "atexit              idna                pytest_remotedata   win32pdh\n",
      "atomicwrites        imageio             pythoncom           win32pdhquery\n",
      "attr                imagesize           pytz                win32pdhutil\n",
      "audioop             imaplib             pywin               win32pipe\n",
      "autopep8            imghdr              pywin32_bootstrap   win32print\n",
      "autoreload          imp                 pywin32_testutil    win32process\n"
     ]
    },
    {
     "name": "stdout",
     "output_type": "stream",
     "text": [
      "babel               importlib           pywintypes          win32profile\n",
      "backcall            importlib_metadata  pywt                win32ras\n",
      "backports           inspect             pyximport           win32rcparser\n",
      "base64              intervaltree        qdarkstyle          win32security\n",
      "bcrypt              io                  qtawesome           win32service\n",
      "bdb                 ipaddress           qtconsole           win32serviceutil\n",
      "binascii            ipykernel           qtpy                win32timezone\n",
      "binhex              ipykernel_launcher  queue               win32trace\n",
      "binstar_client      ipython_genutils    quopri              win32traceutil\n",
      "bisect              ipywidgets          random              win32transaction\n",
      "bitarray            isapi               rasutil             win32ts\n",
      "bkcharts            isort               re                  win32ui\n",
      "bleach              isympy              readline            win32uiole\n",
      "bokeh               itertools           regcheck            win32verstamp\n",
      "boto                itsdangerous        regutil             win32wnet\n",
      "bottleneck          jdcal               reprlib             win_inet_pton\n",
      "brain_argparse      jedi                requests            win_unicode_console\n",
      "brain_attrs         jinja2              rlcompleter         wincertstore\n",
      "brain_builtin_inference joblib              rmagic              winerror\n",
      "brain_collections   json                rope                winioctlcon\n",
      "brain_crypt         json5               rtree               winnt\n",
      "brain_curses        jsonschema          ruamel_yaml         winperf\n",
      "brain_dataclasses   jupyter             run                 winpty\n",
      "brain_dateutil      jupyter_client      runpy               winreg\n",
      "brain_fstrings      jupyter_console     sched               winsound\n",
      "brain_functools     jupyter_core        scipy               winxpgui\n",
      "brain_gi            jupyterlab          scripts             winxptheme\n",
      "brain_hashlib       jupyterlab_server   seaborn             wrapt\n",
      "brain_http          keyring             secrets             wsgiref\n",
      "brain_io            keyword             select              xdrlib\n",
      "brain_mechanize     kiwisolver          selectors           xlrd\n",
      "brain_multiprocessing lazy_object_proxy   send2trash          xlsxwriter\n",
      "brain_namedtuple_enum lib2to3             servicemanager      xlwings\n",
      "brain_nose          libarchive          setuptools          xlwt\n",
      "brain_numpy_core_fromnumeric libfuturize         shelve              xml\n",
      "brain_numpy_core_function_base libpasteurize       shlex               xmlrpc\n",
      "brain_numpy_core_multiarray lief                shutil              xmltodict\n",
      "brain_numpy_core_numeric linecache           signal              xxsubtype\n",
      "brain_numpy_core_numerictypes llvmlite            simplegeneric       yaml\n",
      "brain_numpy_core_umath locale              singledispatch      yapf\n",
      "brain_numpy_ndarray locket              singledispatch_helpers yapftests\n",
      "brain_numpy_random_mtrand logging             sip                 zict\n",
      "brain_numpy_utils   lxml                sipconfig           zipapp\n",
      "brain_pkg_resources lzma                sipdistutils        zipfile\n",
      "brain_pytest        macpath             site                zipimport\n",
      "brain_qt            mailbox             six                 zipp\n",
      "brain_random        mailcap             skimage             zlib\n",
      "brain_re            markupsafe          sklearn             zmq\n",
      "brain_six           marshal             smtpd               \n",
      "brain_ssl           math                smtplib             \n",
      "\n",
      "Enter any module name to get more help.  Or, type \"modules spam\" to search\n",
      "for modules whose name or summary contain the string \"spam\".\n",
      "\n"
     ]
    }
   ],
   "source": [
    "help(\"modules\")\n"
   ]
  },
  {
   "cell_type": "code",
   "execution_count": 2,
   "metadata": {},
   "outputs": [
    {
     "name": "stdout",
     "output_type": "stream",
     "text": [
      "\n",
      "Please wait a moment while I gather a list of all available modules...\n",
      "\n",
      "Crypto              brain_threading     mccabe              socket\n",
      "Cython              brain_typing        menuinst            socketserver\n",
      "IPython             brain_uuid          mimetypes           socks\n",
      "OpenSSL             bs4                 mistune             sockshandler\n",
      "PIL                 builtins            mkl                 sortedcollections\n",
      "PyQt5               bz2                 mkl_fft             sortedcontainers\n",
      "__future__          cProfile            mkl_random          soupsieve\n",
      "_abc                calendar            mmap                sphinx\n",
      "_ast                certifi             mmapfile            sphinxcontrib\n",
      "_asyncio            cffi                mmsystem            sphinxify\n",
      "_bisect             cgi                 mock                sphinxthread\n",
      "_blake2             cgitb               modulefinder        spyder\n",
      "_bootlocale         chardet             more_itertools      spyder_kernels\n",
      "_bz2                chunk               mpmath              sqlalchemy\n",
      "_cffi_backend       click               msgpack             sqlite3\n",
      "_codecs             cloudpickle         msilib              sre_compile\n",
      "_codecs_cn          clyent              msvcrt              sre_constants\n",
      "_codecs_hk          cmath               multipledispatch    sre_parse\n",
      "_codecs_iso2022     cmd                 multiprocessing     ssl\n",
      "_codecs_jp          code                nacl                sspi\n",
      "_codecs_kr          codecs              navigator_updater   sspicon\n",
      "_codecs_tw          codeop              nbconvert           stat\n",
      "_collections        collections         nbformat            statistics\n",
      "_collections_abc    colorama            netbios             statsmodels\n",
      "_compat_pickle      colorsys            netrc               storemagic\n",
      "_compression        commctrl            networkx            string\n",
      "_contextvars        compileall          nltk                stringprep\n",
      "_csv                comtypes            nntplib             struct\n",
      "_ctypes             concurrent          nose                subprocess\n",
      "_ctypes_test        conda               notebook            sunau\n",
      "_datetime           conda_build         nt                  symbol\n",
      "_decimal            conda_env           ntpath              sympy\n",
      "_dummy_thread       conda_package_handling ntsecuritycon       sympyprinting\n",
      "_elementtree        conda_verify        nturl2path          symtable\n",
      "_functools          conf                numba               sys\n",
      "_hashlib            configparser        numbers             sysconfig\n",
      "_heapq              contextlib          numexpr             tables\n",
      "_imp                contextlib2         numpy               tabnanny\n",
      "_io                 contextvars         numpydoc            tarfile\n",
      "_json               copy                odbc                tblib\n",
      "_locale             copyreg             olefile             telnetlib\n",
      "_lsprof             crypt               opcode              tempfile\n",
      "_lzma               cryptography        openpyxl            terminado\n",
      "_markupbase         csv                 operator            test\n",
      "_md5                ctypes              optparse            test_data\n",
      "_msi                curl                os                  test_pycosat\n",
      "_multibytecodec     curses              packaging           testpath\n",
      "_multiprocessing    cwp                 pandas              tests\n",
      "_nsis               cycler              pandocfilters       textwrap\n",
      "_opcode             cython              paramiko            this\n",
      "_operator           cythonmagic         parser              threading\n",
      "_osx_support        cytoolz             parso               time\n",
      "_overlapped         dask                partd               timeit\n",
      "_pickle             dataclasses         past                timer\n",
      "_py_abc             datetime            path                tkinter\n",
      "_pydecimal          dateutil            pathlib             tlz\n",
      "_pyio               dbi                 pathlib2            token\n",
      "_pylief             dbm                 pathtools           tokenize\n",
      "_pyrsistent_version dde                 patsy               toolz\n",
      "_pytest             decimal             pdb                 tornado\n",
      "_queue              decorator           pep8                tqdm\n",
      "_random             defusedxml          perfmon             trace\n",
      "_sha1               diff_match_patch    pexpect             traceback\n",
      "_sha256             difflib             pickle              tracemalloc\n",
      "_sha3               dis                 pickleshare         traitlets\n",
      "_sha512             distributed         pickletools         tty\n",
      "_signal             distutils           pip                 turtle\n",
      "_sitebuiltins       doctest             pipes               turtledemo\n",
      "_socket             docutils            pkg_resources       types\n",
      "_sqlite3            dummy_threading     pkginfo             typing\n",
      "_sre                easy_install        pkgutil             ujson\n",
      "_ssl                email               platform            unicodecsv\n",
      "_stat               encodings           plistlib            unicodedata\n",
      "_string             ensurepip           pluggy              unittest\n",
      "_strptime           entrypoints         ply                 urllib\n",
      "_struct             enum                poplib              urllib3\n",
      "_symtable           errno               posixpath           uu\n",
      "_system_path        et_xmlfile          pprint              uuid\n",
      "_testbuffer         fastcache           profile             venv\n",
      "_testcapi           faulthandler        prometheus_client   warnings\n",
      "_testconsole        filecmp             prompt_toolkit      watchdog\n",
      "_testimportmultiple fileinput           pstats              wave\n",
      "_testmultiphase     filelock            psutil              wcwidth\n",
      "_thread             flake8              pty                 weakref\n",
      "_threading_local    flask               pvectorc            webbrowser\n",
      "_tkinter            fnmatch             py                  webencodings\n",
      "_tracemalloc        formatter           py_compile          werkzeug\n",
      "_warnings           fractions           pyclbr              wheel\n",
      "_weakref            fsspec              pycodestyle         widgetsnbextension\n",
      "_weakrefset         ftplib              pycosat             win2kras\n",
      "_win32sysloader     functools           pycparser           win32api\n",
      "_winapi             future              pycurl              win32clipboard\n",
      "_winxptheme         gc                  pydoc               win32com\n",
      "_yaml               genericpath         pydoc_data          win32con\n",
      "abc                 getopt              pydocstyle          win32console\n",
      "adodbapi            getpass             pyexpat             win32cred\n",
      "afxres              gettext             pyflakes            win32crypt\n",
      "aifc                gevent              pygments            win32cryptcon\n",
      "alabaster           glob                pylab               win32ctypes\n",
      "anaconda_navigator  glob2               pylint              win32event\n",
      "anaconda_project    greenlet            pyls                win32evtlog\n",
      "antigravity         gzip                pyls_jsonrpc        win32evtlogutil\n",
      "argh                h5py                pyodbc              win32file\n",
      "argparse            hashlib             pyparsing           win32gui\n",
      "array               heapdict            pyreadline          win32gui_struct\n",
      "asn1crypto          heapq               pyrsistent          win32help\n",
      "ast                 hmac                pytest              win32inet\n",
      "astroid             html                pytest_arraydiff    win32inetcon\n",
      "astropy             html5lib            pytest_astropy_header win32job\n",
      "asynchat            http                pytest_doctestplus  win32lz\n",
      "asyncio             hypothesis          pytest_openfiles    win32net\n",
      "asyncore            idlelib             pytest_remotedata   win32netcon\n",
      "atexit              idna                pythoncom           win32pdh\n",
      "atomicwrites        imageio             pytz                win32pdhquery\n",
      "attr                imagesize           pywin               win32pdhutil\n",
      "audioop             imaplib             pywin32_bootstrap   win32pipe\n",
      "autopep8            imghdr              pywin32_testutil    win32print\n"
     ]
    },
    {
     "name": "stdout",
     "output_type": "stream",
     "text": [
      "autoreload          imp                 pywintypes          win32process\n",
      "babel               importlib           pywt                win32profile\n",
      "backcall            importlib_metadata  pyximport           win32ras\n",
      "backports           inspect             qdarkstyle          win32rcparser\n",
      "base64              intervaltree        qtawesome           win32security\n",
      "bcrypt              io                  qtconsole           win32service\n",
      "bdb                 ipaddress           qtpy                win32serviceutil\n",
      "binascii            ipykernel           queue               win32timezone\n",
      "binhex              ipykernel_launcher  quopri              win32trace\n",
      "binstar_client      ipython_genutils    random              win32traceutil\n",
      "bisect              ipywidgets          rasutil             win32transaction\n",
      "bitarray            isapi               re                  win32ts\n",
      "bkcharts            isort               readline            win32ui\n",
      "bleach              isympy              regcheck            win32uiole\n",
      "bokeh               itertools           regutil             win32verstamp\n",
      "boto                itsdangerous        reprlib             win32wnet\n",
      "bottleneck          jdcal               requests            win_inet_pton\n",
      "brain_argparse      jedi                rlcompleter         win_unicode_console\n",
      "brain_attrs         jinja2              rmagic              wincertstore\n",
      "brain_builtin_inference joblib              rope                winerror\n",
      "brain_collections   json                rtree               winioctlcon\n",
      "brain_crypt         json5               ruamel_yaml         winnt\n",
      "brain_curses        jsonschema          run                 winperf\n",
      "brain_dataclasses   jupyter             runpy               winpty\n",
      "brain_dateutil      jupyter_client      sched               winreg\n",
      "brain_fstrings      jupyter_console     scipy               winsound\n",
      "brain_functools     jupyter_core        scripts             winxpgui\n",
      "brain_gi            jupyterlab          seaborn             winxptheme\n",
      "brain_hashlib       jupyterlab_server   secrets             wrapt\n",
      "brain_http          keyring             select              wsgiref\n",
      "brain_io            keyword             selectors           xdrlib\n",
      "brain_mechanize     kiwisolver          send2trash          xlrd\n",
      "brain_multiprocessing lazy_object_proxy   servicemanager      xlsxwriter\n",
      "brain_namedtuple_enum lib2to3             setuptools          xlwings\n",
      "brain_nose          libarchive          shelve              xlwt\n",
      "brain_numpy_core_fromnumeric libfuturize         shlex               xml\n",
      "brain_numpy_core_function_base libpasteurize       shutil              xmlrpc\n",
      "brain_numpy_core_multiarray lief                signal              xmltodict\n",
      "brain_numpy_core_numeric linecache           simplegeneric       xxsubtype\n",
      "brain_numpy_core_numerictypes llvmlite            singledispatch      yaml\n",
      "brain_numpy_core_umath locale              singledispatch_helpers yapf\n",
      "brain_numpy_ndarray locket              sip                 yapftests\n",
      "brain_numpy_random_mtrand logging             sipconfig           zict\n",
      "brain_numpy_utils   lxml                sipdistutils        zipapp\n",
      "brain_pkg_resources lzma                site                zipfile\n",
      "brain_pytest        macpath             six                 zipimport\n",
      "brain_qt            mailbox             skimage             zipp\n",
      "brain_random        mailcap             sklearn             zlib\n",
      "brain_re            markupsafe          smtpd               zmq\n",
      "brain_six           marshal             smtplib             \n",
      "brain_ssl           math                sndhdr              \n",
      "brain_subprocess    matplotlib          snowballstemmer     \n",
      "\n",
      "Enter any module name to get more help.  Or, type \"modules spam\" to search\n",
      "for modules whose name or summary contain the string \"spam\".\n",
      "\n"
     ]
    }
   ],
   "source": [
    "help(\"modules\")"
   ]
  },
  {
   "cell_type": "code",
   "execution_count": 3,
   "metadata": {},
   "outputs": [],
   "source": [
    "import calendar\n"
   ]
  },
  {
   "cell_type": "code",
   "execution_count": 4,
   "metadata": {},
   "outputs": [
    {
     "name": "stdout",
     "output_type": "stream",
     "text": [
      "                                  2020\n",
      "\n",
      "      January                   February                   March\n",
      "Mo Tu We Th Fr Sa Su      Mo Tu We Th Fr Sa Su      Mo Tu We Th Fr Sa Su\n",
      "       1  2  3  4  5                      1  2                         1\n",
      " 6  7  8  9 10 11 12       3  4  5  6  7  8  9       2  3  4  5  6  7  8\n",
      "13 14 15 16 17 18 19      10 11 12 13 14 15 16       9 10 11 12 13 14 15\n",
      "20 21 22 23 24 25 26      17 18 19 20 21 22 23      16 17 18 19 20 21 22\n",
      "27 28 29 30 31            24 25 26 27 28 29         23 24 25 26 27 28 29\n",
      "                                                    30 31\n",
      "\n",
      "       April                      May                       June\n",
      "Mo Tu We Th Fr Sa Su      Mo Tu We Th Fr Sa Su      Mo Tu We Th Fr Sa Su\n",
      "       1  2  3  4  5                   1  2  3       1  2  3  4  5  6  7\n",
      " 6  7  8  9 10 11 12       4  5  6  7  8  9 10       8  9 10 11 12 13 14\n",
      "13 14 15 16 17 18 19      11 12 13 14 15 16 17      15 16 17 18 19 20 21\n",
      "20 21 22 23 24 25 26      18 19 20 21 22 23 24      22 23 24 25 26 27 28\n",
      "27 28 29 30               25 26 27 28 29 30 31      29 30\n",
      "\n",
      "        July                     August                  September\n",
      "Mo Tu We Th Fr Sa Su      Mo Tu We Th Fr Sa Su      Mo Tu We Th Fr Sa Su\n",
      "       1  2  3  4  5                      1  2          1  2  3  4  5  6\n",
      " 6  7  8  9 10 11 12       3  4  5  6  7  8  9       7  8  9 10 11 12 13\n",
      "13 14 15 16 17 18 19      10 11 12 13 14 15 16      14 15 16 17 18 19 20\n",
      "20 21 22 23 24 25 26      17 18 19 20 21 22 23      21 22 23 24 25 26 27\n",
      "27 28 29 30 31            24 25 26 27 28 29 30      28 29 30\n",
      "                          31\n",
      "\n",
      "      October                   November                  December\n",
      "Mo Tu We Th Fr Sa Su      Mo Tu We Th Fr Sa Su      Mo Tu We Th Fr Sa Su\n",
      "          1  2  3  4                         1          1  2  3  4  5  6\n",
      " 5  6  7  8  9 10 11       2  3  4  5  6  7  8       7  8  9 10 11 12 13\n",
      "12 13 14 15 16 17 18       9 10 11 12 13 14 15      14 15 16 17 18 19 20\n",
      "19 20 21 22 23 24 25      16 17 18 19 20 21 22      21 22 23 24 25 26 27\n",
      "26 27 28 29 30 31         23 24 25 26 27 28 29      28 29 30 31\n",
      "                          30\n",
      "\n"
     ]
    }
   ],
   "source": [
    "import calendar\n",
    "print(calendar.calendar(2020))"
   ]
  },
  {
   "cell_type": "code",
   "execution_count": 5,
   "metadata": {},
   "outputs": [
    {
     "name": "stdout",
     "output_type": "stream",
     "text": [
      "                                  1999\n",
      "\n",
      "      January                   February                   March\n",
      "Mo Tu We Th Fr Sa Su      Mo Tu We Th Fr Sa Su      Mo Tu We Th Fr Sa Su\n",
      "             1  2  3       1  2  3  4  5  6  7       1  2  3  4  5  6  7\n",
      " 4  5  6  7  8  9 10       8  9 10 11 12 13 14       8  9 10 11 12 13 14\n",
      "11 12 13 14 15 16 17      15 16 17 18 19 20 21      15 16 17 18 19 20 21\n",
      "18 19 20 21 22 23 24      22 23 24 25 26 27 28      22 23 24 25 26 27 28\n",
      "25 26 27 28 29 30 31                                29 30 31\n",
      "\n",
      "       April                      May                       June\n",
      "Mo Tu We Th Fr Sa Su      Mo Tu We Th Fr Sa Su      Mo Tu We Th Fr Sa Su\n",
      "          1  2  3  4                      1  2          1  2  3  4  5  6\n",
      " 5  6  7  8  9 10 11       3  4  5  6  7  8  9       7  8  9 10 11 12 13\n",
      "12 13 14 15 16 17 18      10 11 12 13 14 15 16      14 15 16 17 18 19 20\n",
      "19 20 21 22 23 24 25      17 18 19 20 21 22 23      21 22 23 24 25 26 27\n",
      "26 27 28 29 30            24 25 26 27 28 29 30      28 29 30\n",
      "                          31\n",
      "\n",
      "        July                     August                  September\n",
      "Mo Tu We Th Fr Sa Su      Mo Tu We Th Fr Sa Su      Mo Tu We Th Fr Sa Su\n",
      "          1  2  3  4                         1             1  2  3  4  5\n",
      " 5  6  7  8  9 10 11       2  3  4  5  6  7  8       6  7  8  9 10 11 12\n",
      "12 13 14 15 16 17 18       9 10 11 12 13 14 15      13 14 15 16 17 18 19\n",
      "19 20 21 22 23 24 25      16 17 18 19 20 21 22      20 21 22 23 24 25 26\n",
      "26 27 28 29 30 31         23 24 25 26 27 28 29      27 28 29 30\n",
      "                          30 31\n",
      "\n",
      "      October                   November                  December\n",
      "Mo Tu We Th Fr Sa Su      Mo Tu We Th Fr Sa Su      Mo Tu We Th Fr Sa Su\n",
      "             1  2  3       1  2  3  4  5  6  7             1  2  3  4  5\n",
      " 4  5  6  7  8  9 10       8  9 10 11 12 13 14       6  7  8  9 10 11 12\n",
      "11 12 13 14 15 16 17      15 16 17 18 19 20 21      13 14 15 16 17 18 19\n",
      "18 19 20 21 22 23 24      22 23 24 25 26 27 28      20 21 22 23 24 25 26\n",
      "25 26 27 28 29 30 31      29 30                     27 28 29 30 31\n",
      "\n"
     ]
    }
   ],
   "source": [
    "import calendar\n",
    "print(calendar.calendar(1999))"
   ]
  },
  {
   "cell_type": "code",
   "execution_count": 7,
   "metadata": {},
   "outputs": [
    {
     "name": "stdout",
     "output_type": "stream",
     "text": [
      "   December 1999\n",
      "Mo Tu We Th Fr Sa Su\n",
      "       1  2  3  4  5\n",
      " 6  7  8  9 10 11 12\n",
      "13 14 15 16 17 18 19\n",
      "20 21 22 23 24 25 26\n",
      "27 28 29 30 31\n",
      "\n"
     ]
    }
   ],
   "source": [
    "print(calendar.month(1999,12))"
   ]
  },
  {
   "cell_type": "code",
   "execution_count": 3,
   "metadata": {},
   "outputs": [
    {
     "name": "stdout",
     "output_type": "stream",
     "text": [
      "hi\n"
     ]
    },
    {
     "data": {
      "text/plain": [
       "'hi'"
      ]
     },
     "execution_count": 3,
     "metadata": {},
     "output_type": "execute_result"
    }
   ],
   "source": [
    "a = input()\n",
    "a"
   ]
  },
  {
   "cell_type": "code",
   "execution_count": 9,
   "metadata": {},
   "outputs": [
    {
     "name": "stdout",
     "output_type": "stream",
     "text": [
      "Enter the name :hi\n",
      "entered name: hi\n"
     ]
    }
   ],
   "source": [
    "a = input(\"Enter the name :\")\n",
    "print(\"entered name:\",a)"
   ]
  },
  {
   "cell_type": "code",
   "execution_count": 13,
   "metadata": {},
   "outputs": [
    {
     "ename": "NameError",
     "evalue": "name 'package' is not defined",
     "output_type": "error",
     "traceback": [
      "\u001b[1;31m---------------------------------------------------------------------------\u001b[0m",
      "\u001b[1;31mNameError\u001b[0m                                 Traceback (most recent call last)",
      "\u001b[1;32m<ipython-input-13-943a9056e9f8>\u001b[0m in \u001b[0;36m<module>\u001b[1;34m\u001b[0m\n\u001b[1;32m----> 1\u001b[1;33m \u001b[0mpackage\u001b[0m\u001b[1;33m.\u001b[0m\u001b[0mmobile\u001b[0m\u001b[1;33m.\u001b[0m\u001b[0mvivo\u001b[0m\u001b[1;33m(\u001b[0m\u001b[1;33m)\u001b[0m\u001b[1;33m\u001b[0m\u001b[1;33m\u001b[0m\u001b[0m\n\u001b[0m",
      "\u001b[1;31mNameError\u001b[0m: name 'package' is not defined"
     ]
    }
   ],
   "source": [
    "package.mobile.vivo()"
   ]
  },
  {
   "cell_type": "code",
   "execution_count": null,
   "metadata": {},
   "outputs": [],
   "source": []
  },
  {
   "cell_type": "code",
   "execution_count": null,
   "metadata": {},
   "outputs": [],
   "source": []
  }
 ],
 "metadata": {
  "kernelspec": {
   "display_name": "Python 3",
   "language": "python",
   "name": "python3"
  },
  "language_info": {
   "codemirror_mode": {
    "name": "ipython",
    "version": 3
   },
   "file_extension": ".py",
   "mimetype": "text/x-python",
   "name": "python",
   "nbconvert_exporter": "python",
   "pygments_lexer": "ipython3",
   "version": "3.7.6"
  }
 },
 "nbformat": 4,
 "nbformat_minor": 4
}
